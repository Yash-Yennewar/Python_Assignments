{
 "cells": [
  {
   "cell_type": "code",
   "execution_count": 1,
   "id": "6f73acee",
   "metadata": {},
   "outputs": [
    {
     "name": "stdout",
     "output_type": "stream",
     "text": [
      "The Enter Number is : 12\n",
      "------------------------\n",
      "The Number is : Even\n"
     ]
    }
   ],
   "source": [
    "# 1. Question 1:\n",
    "# Write a Python program that checks if a number entered by the user is even or odd. \n",
    "# Print \"Even\" if the number is even and \"Odd\" if it is odd.\n",
    "\n",
    "num = int(input(\"Enter any Number :\"))\n",
    "print(\"The Enter Number is :\",num)\n",
    "print(\"--\" * 12)\n",
    "\n",
    "odd_even = lambda num : \"Even\" if num % 2 == 0 else \"Odd\"\n",
    "print(\"The Number is :\",odd_even(num))"
   ]
  },
  {
   "cell_type": "code",
   "execution_count": 2,
   "id": "58e20ce0",
   "metadata": {},
   "outputs": [
    {
     "name": "stdout",
     "output_type": "stream",
     "text": [
      "Age : 24\n",
      "--------------------\n",
      "You are Adult!\n"
     ]
    }
   ],
   "source": [
    "# 2. Question 2:\n",
    "# Create a program that prompts the user for their age \n",
    "# and prints whether they are a child (0-12), teenager (13-19), or adult (20 and above).\n",
    "\n",
    "age = int(input(\"Enter your Age :\"))\n",
    "print(\"Age :\",age)\n",
    "print(\"--\" * 10)\n",
    "if 0 < age < 13 :\n",
    "    print(\"You are Child!\")\n",
    "elif 12 < age < 20 :\n",
    "    print(\"You are Teenager!\")\n",
    "else :\n",
    "    print(\"You are Adult!\")"
   ]
  },
  {
   "cell_type": "code",
   "execution_count": 3,
   "id": "9c660203",
   "metadata": {},
   "outputs": [
    {
     "name": "stdout",
     "output_type": "stream",
     "text": [
      "Number 1 : 25 \n",
      "Number 2 : 25\n",
      "------------------------\n",
      "Both numbers are equal.\n"
     ]
    }
   ],
   "source": [
    "# 3. Question 3:\n",
    "# Write a program that takes two numbers as input from the user and prints\n",
    "# which number is larger. If both numbers are equal, print \"Both numbers are equal.\"\n",
    "\n",
    "num1 = int(input(\"Enter any Number 1 :\"))\n",
    "num2 = int(input(\"Enter any Number 2 :\"))\n",
    "print(\"Number 1 :\",num1,\"\\nNumber 2 :\",num2)\n",
    "print(\"--\" * 12)\n",
    "\n",
    "if num1 > num2 :\n",
    "    print(num1,\"is Greater than\",num2)\n",
    "elif num2 > num1 :\n",
    "    print(num2,\"is Greater than\",num1)\n",
    "else :\n",
    "    print(\"Both numbers are equal.\")"
   ]
  },
  {
   "cell_type": "code",
   "execution_count": 4,
   "id": "62142ff1",
   "metadata": {},
   "outputs": [
    {
     "name": "stdout",
     "output_type": "stream",
     "text": [
      "------------------------\n",
      "Access Granted\n"
     ]
    }
   ],
   "source": [
    "# 4. Question 4:\n",
    "# Create a program that checks if a user-entered password matches the string \"securePassword\".\n",
    "# Print \"Access Granted\" if it matches, otherwise print \"Access Denied.\"\n",
    "\n",
    "password = input(\"Enter the Password\")\n",
    "print(\"--\" * 12)\n",
    "if(password == \"securePassword\"):\n",
    "    print(\"Access Granted\")\n",
    "else:\n",
    "    print(\"Access Denied\")"
   ]
  },
  {
   "cell_type": "code",
   "execution_count": 5,
   "id": "33b88c3d",
   "metadata": {},
   "outputs": [
    {
     "name": "stdout",
     "output_type": "stream",
     "text": [
      "Marks : 95\n",
      "--------------------\n",
      "Grade A\n"
     ]
    }
   ],
   "source": [
    "# 5. Question 5:\n",
    "# Write a program that takes a score from the user (0-100) and prints the corresponding grade:\n",
    "# A for 90-100\n",
    "# B for 80-89\n",
    "# C for 70-79\n",
    "# D for 60-69\n",
    "# F for below 60\n",
    "\n",
    "marks = int(input(\"Enter the Marks(0-100) :\"))\n",
    "print(\"Marks :\",marks)\n",
    "print(\"--\" * 10)\n",
    "\n",
    "if 90 <= marks <= 100 :\n",
    "    print(\"Grade A\")\n",
    "elif 80 <= marks <= 90 :\n",
    "    print(\"Grade B\")\n",
    "elif 70 <= marks <= 80 :\n",
    "    print(\"Grade C\")\n",
    "elif 60 <= marks <= 70 :\n",
    "    print(\"Grade D\")\n",
    "else :\n",
    "    print(\"Grade F\")"
   ]
  },
  {
   "cell_type": "code",
   "execution_count": 6,
   "id": "406a14d6",
   "metadata": {},
   "outputs": [
    {
     "name": "stdout",
     "output_type": "stream",
     "text": [
      "The Enter Number is : -56\n",
      "------------------------\n",
      "It is -ve Number\n"
     ]
    }
   ],
   "source": [
    "# 6. Question 6:\n",
    "# Create a program that asks the user for a number and checks if it is positive, negative, or zero. \n",
    "# Print the corresponding message.\n",
    "\n",
    "num = int(input(\"Enter any Number :\"))\n",
    "print(\"The Enter Number is :\",num)\n",
    "print(\"--\" * 12)\n",
    "\n",
    "if num > 0 :\n",
    "    print(\"It is +ve Number\")\n",
    "elif num == 0 :\n",
    "    print(\"It is Zero\")\n",
    "else :\n",
    "    print(\"It is -ve Number\")"
   ]
  },
  {
   "cell_type": "code",
   "execution_count": 7,
   "id": "1c5f7e42",
   "metadata": {},
   "outputs": [
    {
     "name": "stdout",
     "output_type": "stream",
     "text": [
      "Number 1 : 100 \n",
      "Number 2 : 75 \n",
      "Number 3 : 44\n",
      "------------------------\n",
      "100 is Greater than the rest Numbers.\n"
     ]
    }
   ],
   "source": [
    "# 7. Question 7:\n",
    "# Write a program that takes three numbers from the user and determines the largest of the three.\n",
    "# Print the largest number.\n",
    "\n",
    "num1 = int(input(\"Enter any Number 1 :\"))\n",
    "num2 = int(input(\"Enter any Number 2 :\"))\n",
    "num3 = int(input(\"Enter any Number 3 :\"))\n",
    "print(\"Number 1 :\",num1,\"\\nNumber 2 :\",num2,\"\\nNumber 3 :\",num3)\n",
    "print(\"--\" * 12)\n",
    "\n",
    "if num1 > num2 and num1 > num3 :\n",
    "    print(num1,\"is Greater than the rest Numbers.\")\n",
    "elif num2 > num1 and num2 > num3 :\n",
    "    print(num2,\"is Greater than the rest Numbers.\")\n",
    "elif num3 > num1 and num3 > num2 :\n",
    "    print(num3,\"is Greater than the rest Numbers.\")\n",
    "else :\n",
    "    print(\"All numbers are equal.\")"
   ]
  },
  {
   "cell_type": "code",
   "execution_count": 8,
   "id": "454ee40b",
   "metadata": {},
   "outputs": [
    {
     "name": "stdout",
     "output_type": "stream",
     "text": [
      "character : y\n",
      "------------------------\n",
      "the character y is consonant.\n"
     ]
    }
   ],
   "source": [
    "# 8. Question 8:\n",
    "# Create a program that checks if a user-entered character is a vowel (a, e, i, o, u) or a consonant. \n",
    "# Print the corresponding message.\n",
    "\n",
    "character = input(\"Enter any character\")\n",
    "print(\"character :\",character)\n",
    "print(\"--\" * 12)\n",
    "\n",
    "if character == \"a\" or character == \"e\" or character == \"i\" or character == \"o\" or character == \"u\" :\n",
    "    print(\"the character\",character,\"is vowel.\")\n",
    "else:\n",
    "    print(\"the character\",character,\"is consonant.\")"
   ]
  },
  {
   "cell_type": "code",
   "execution_count": 9,
   "id": "df757ed9",
   "metadata": {},
   "outputs": [
    {
     "name": "stdout",
     "output_type": "stream",
     "text": [
      "Year : 2024\n",
      "------------------------\n",
      "the year 2024 is leap year.\n"
     ]
    }
   ],
   "source": [
    "# 9. Question 9:\n",
    "# Write a program that checks if a given year is a leap year.\n",
    "# A year is a leap year if it is divisible by 4, except for years that are divisible by 100 but not divisible by 400.\n",
    "\n",
    "year = int(input(\"Enter any Year :\"))\n",
    "print(\"Year :\",year)\n",
    "print(\"--\" * 12)\n",
    "\n",
    "if (year % 4 == 0 and year % 100 != 0) or (year % 400 == 0) :\n",
    "    print(\"the year\",year,\"is leap year.\")\n",
    "else:\n",
    "    print(\"the year\",year,\"is not leap year.\")"
   ]
  },
  {
   "cell_type": "code",
   "execution_count": 10,
   "id": "30c2888c",
   "metadata": {},
   "outputs": [
    {
     "name": "stdout",
     "output_type": "stream",
     "text": [
      "Temparature: In Celcius : 102 \n",
      "In Fahrenheit : 215.6\n",
      "------------------------\n",
      "It's boiling!\n"
     ]
    }
   ],
   "source": [
    "# 10. Question 10:\n",
    "# Create a program that prompts the user for a temperature in Celsius and converts it to Fahrenheit. \n",
    "# If the converted temperature is greater than 100°F, print \"It's boiling!\" Otherwise, print \"It's not boiling yet.\"\n",
    "\n",
    "tempInC = int(input(\"Enter temparature in Celcius :\"))\n",
    "tempInF = (tempInC * 1.8) + 32\n",
    "print(\"Temparature: In Celcius :\",tempInC,\"\\nIn Fahrenheit :\",tempInF)\n",
    "print(\"--\" * 12)\n",
    "\n",
    "if tempInF > 100:\n",
    "    print(\"It's boiling!\")\n",
    "else:\n",
    "    print(\"It's not boiling yet.\")"
   ]
  }
 ],
 "metadata": {
  "kernelspec": {
   "display_name": "Python 3",
   "language": "python",
   "name": "python3"
  },
  "language_info": {
   "codemirror_mode": {
    "name": "ipython",
    "version": 3
   },
   "file_extension": ".py",
   "mimetype": "text/x-python",
   "name": "python",
   "nbconvert_exporter": "python",
   "pygments_lexer": "ipython3",
   "version": "3.13.5"
  }
 },
 "nbformat": 4,
 "nbformat_minor": 5
}
