{
 "cells": [
  {
   "cell_type": "code",
   "execution_count": 38,
   "id": "adbbebc4",
   "metadata": {},
   "outputs": [],
   "source": [
    "# Lists, Strings, Dictionaries, and Nested Structures"
   ]
  },
  {
   "cell_type": "code",
   "execution_count": 39,
   "id": "e032b19d",
   "metadata": {},
   "outputs": [
    {
     "name": "stdout",
     "output_type": "stream",
     "text": [
      "[2001, 2002, 2003, 2004, 2005, 2006]\n"
     ]
    }
   ],
   "source": [
    "# 1. Year List Creation\n",
    "# Create a list years_list that includes the year of your birth and the next five years (total 6 years).\n",
    "\n",
    "birth_year = 2001\n",
    "years_list = [birth_year + i for i in range(6)]\n",
    "print(years_list)"
   ]
  },
  {
   "cell_type": "code",
   "execution_count": 40,
   "id": "00ea61ca",
   "metadata": {},
   "outputs": [
    {
     "name": "stdout",
     "output_type": "stream",
     "text": [
      "Third_Birthday_Year : 2004\n"
     ]
    }
   ],
   "source": [
    "# 2. Third Birthday Year\n",
    "# Print the year in years_list when you were 3 years old. Hint: Remember, your 0th year is the first item.\n",
    "\n",
    "birth_year = 2001\n",
    "years_list = [birth_year + i for i in range(6)]\n",
    "Third_Birthday_Year = years_list[3]\n",
    "print(\"Third_Birthday_Year :\",Third_Birthday_Year)"
   ]
  },
  {
   "cell_type": "code",
   "execution_count": 41,
   "id": "cf266e4a",
   "metadata": {},
   "outputs": [
    {
     "name": "stdout",
     "output_type": "stream",
     "text": [
      "Oldest_Year : 2006\n"
     ]
    }
   ],
   "source": [
    "# 3. Oldest Year\n",
    "# Which year in years_list represents the most recent (your oldest age)?\n",
    "\n",
    "birth_year = 2001\n",
    "years_list = [birth_year + i for i in range(6)]\n",
    "Oldest_Year = years_list[-1]\n",
    "print(\"Oldest_Year :\",Oldest_Year)"
   ]
  },
  {
   "cell_type": "code",
   "execution_count": 42,
   "id": "8bb38332",
   "metadata": {},
   "outputs": [
    {
     "name": "stdout",
     "output_type": "stream",
     "text": [
      "['mozzarella', 'cinderella', 'salmonella']\n"
     ]
    }
   ],
   "source": [
    "# 4. List of Things\n",
    "# Create a list called things with the following items:\n",
    "# [\"mozzarella\", \"cinderella\", \"salmonella\"]\n",
    "\n",
    "things = [\"mozzarella\", \"cinderella\", \"salmonella\"]\n",
    "print(things)"
   ]
  },
  {
   "cell_type": "code",
   "execution_count": 43,
   "id": "8f09fdb2",
   "metadata": {},
   "outputs": [
    {
     "name": "stdout",
     "output_type": "stream",
     "text": [
      "Capitalized person: Cinderella\n",
      "Original list after capitalize(): ['mozzarella', 'cinderella', 'salmonella']\n",
      "Modified list: ['mozzarella', 'Cinderella', 'salmonella']\n"
     ]
    }
   ],
   "source": [
    "# 5. Capitalization Check\n",
    "# Capitalize the item that refers to a person in the things list. Print the list. Did the original list change?\n",
    "\n",
    "things = [\"mozzarella\", \"cinderella\", \"salmonella\"]\n",
    "capitalized_person = things[1].capitalize()\n",
    "\n",
    "print(\"Capitalized person:\", capitalized_person)\n",
    "print(\"Original list after capitalize():\", things)\n",
    "\n",
    "# capitalize() returns a new string.\n",
    "# It does not modify the original list unless you assign it back.\n",
    "\n",
    "things[1] = things[1].capitalize()\n",
    "print(\"Modified list:\", things)"
   ]
  },
  {
   "cell_type": "code",
   "execution_count": 44,
   "id": "411acc5e",
   "metadata": {},
   "outputs": [
    {
     "name": "stdout",
     "output_type": "stream",
     "text": [
      "['Groucho', 'Chico', 'Harpo']\n"
     ]
    }
   ],
   "source": [
    "# 6. Surprise List\n",
    "# Create a list called surprise_list with these values:\n",
    "# [\"Groucho\", \"Chico\", \"Harpo\"]\n",
    "\n",
    "surprise_list = [\"Groucho\", \"Chico\", \"Harpo\"]\n",
    "print(surprise_list)"
   ]
  },
  {
   "cell_type": "code",
   "execution_count": 45,
   "id": "3754c190",
   "metadata": {},
   "outputs": [
    {
     "name": "stdout",
     "output_type": "stream",
     "text": [
      "Oprah\n"
     ]
    }
   ],
   "source": [
    "# 7. String Transformation\n",
    "# Take the last item in surprise_list:\n",
    "# Lowercase it\n",
    "# Reverse it\n",
    "# Capitalize the result Then print it.\n",
    "\n",
    "surprise_list = [\"Groucho\", \"Chico\", \"Harpo\"]\n",
    "\n",
    "last_item = surprise_list[-1]\n",
    "lowercased = last_item.lower()\n",
    "reversed_str = lowercased[::-1]\n",
    "capitalize = reversed_str.capitalize()\n",
    "print(capitalize)"
   ]
  },
  {
   "cell_type": "code",
   "execution_count": 46,
   "id": "def4732f",
   "metadata": {},
   "outputs": [
    {
     "name": "stdout",
     "output_type": "stream",
     "text": [
      "{'dog': 'chien', 'cat': 'chat', 'walrus': 'morse'}\n"
     ]
    }
   ],
   "source": [
    "# 8. English-to-French Dictionary\n",
    "# Create a dictionary e2f that maps these:\n",
    "# dog → chien\n",
    "# cat → chat\n",
    "# walrus → morse\n",
    "# Print the dictionary.\n",
    "\n",
    "e2f = {\n",
    "    \"dog\": \"chien\",\n",
    "    \"cat\": \"chat\",\n",
    "    \"walrus\": \"morse\"\n",
    "}\n",
    "\n",
    "print(e2f)"
   ]
  },
  {
   "cell_type": "code",
   "execution_count": 47,
   "id": "083028b6",
   "metadata": {},
   "outputs": [
    {
     "name": "stdout",
     "output_type": "stream",
     "text": [
      "French word for 'walrus': morse\n"
     ]
    }
   ],
   "source": [
    "# 9. Translate 'walrus' to French\n",
    "# Use e2f to print the French word for “walrus.”\n",
    "\n",
    "french_walrus = e2f[\"walrus\"]\n",
    "print(\"French word for 'walrus':\", french_walrus)"
   ]
  },
  {
   "cell_type": "code",
   "execution_count": 48,
   "id": "d10209f0",
   "metadata": {},
   "outputs": [
    {
     "name": "stdout",
     "output_type": "stream",
     "text": [
      "{'chien': 'dog', 'chat': 'cat', 'morse': 'walrus'}\n"
     ]
    }
   ],
   "source": [
    "# 10. Reverse Dictionary\n",
    "# Create a reverse dictionary f2e from e2f using the .items() method. Print f2e.\n",
    "\n",
    "f2e = {value: key for key, value in e2f.items()}\n",
    "print(f2e)"
   ]
  },
  {
   "cell_type": "code",
   "execution_count": 49,
   "id": "7acb07c8",
   "metadata": {},
   "outputs": [
    {
     "name": "stdout",
     "output_type": "stream",
     "text": [
      "English word for 'chien': dog\n"
     ]
    }
   ],
   "source": [
    "# 11. Translate 'chien' to English\n",
    "# Use f2e to print the English word for “chien.”\n",
    "\n",
    "english_dog = f2e[\"chien\"]\n",
    "print(\"English word for 'chien':\", english_dog)"
   ]
  },
  {
   "cell_type": "code",
   "execution_count": 50,
   "id": "5a9c9462",
   "metadata": {},
   "outputs": [
    {
     "name": "stdout",
     "output_type": "stream",
     "text": [
      "{'walrus', 'dog', 'cat'}\n"
     ]
    }
   ],
   "source": [
    "# 12. Get All English Words\n",
    "# Print the set of all English words (the keys from e2f).\n",
    "\n",
    "english_words = set(e2f.keys())\n",
    "print(english_words)"
   ]
  },
  {
   "cell_type": "code",
   "execution_count": 51,
   "id": "8dd54671",
   "metadata": {},
   "outputs": [
    {
     "name": "stdout",
     "output_type": "stream",
     "text": [
      "{'animals': {'cats': ['Henri', 'Grumpy', 'Lucy'], 'octopi': {}, 'emus': {}}, 'plants': {}, 'other': {}}\n"
     ]
    }
   ],
   "source": [
    "# 13. Create a Nested Dictionary (life)\n",
    "# Create a dictionary life structured like this:\n",
    "# {\n",
    "# 'animals': {\n",
    "# 'cats': ['Henri', 'Grumpy', 'Lucy'],\n",
    "# 'octopi': {},\n",
    "# 'emus': {}\n",
    "# },\n",
    "# 'plants': {},\n",
    "# 'other': {}\n",
    "# }\n",
    "\n",
    "life = {\n",
    "    'animals': {\n",
    "        'cats': ['Henri', 'Grumpy', 'Lucy'],\n",
    "        'octopi': {},\n",
    "        'emus': {}\n",
    "    },\n",
    "    'plants': {},\n",
    "    'other': {}\n",
    "}\n",
    "\n",
    "print(life)"
   ]
  },
  {
   "cell_type": "code",
   "execution_count": 52,
   "id": "8489bfbc",
   "metadata": {},
   "outputs": [
    {
     "name": "stdout",
     "output_type": "stream",
     "text": [
      "dict_keys(['animals', 'plants', 'other'])\n"
     ]
    }
   ],
   "source": [
    "# 14. Top-Level Keys\n",
    "# Print the top-level keys of life.\n",
    "\n",
    "top_level_keys = life.keys()\n",
    "print(top_level_keys)"
   ]
  },
  {
   "cell_type": "code",
   "execution_count": 53,
   "id": "b98a77af",
   "metadata": {},
   "outputs": [
    {
     "name": "stdout",
     "output_type": "stream",
     "text": [
      "dict_keys(['cats', 'octopi', 'emus'])\n"
     ]
    }
   ],
   "source": [
    "# 15. Animal Categories\n",
    "# Print the keys inside life['animals'].\n",
    "\n",
    "animal_categories = life['animals'].keys()\n",
    "print(animal_categories)"
   ]
  },
  {
   "cell_type": "code",
   "execution_count": 54,
   "id": "7e489733",
   "metadata": {},
   "outputs": [
    {
     "name": "stdout",
     "output_type": "stream",
     "text": [
      "['Henri', 'Grumpy', 'Lucy']\n"
     ]
    }
   ],
   "source": [
    "# 16. List of Cat Names\n",
    "# Print the list of cat names stored in life['animals']['cats'].\n",
    "\n",
    "cat_names = life['animals']['cats']\n",
    "print(cat_names)"
   ]
  }
 ],
 "metadata": {
  "kernelspec": {
   "display_name": "Python 3",
   "language": "python",
   "name": "python3"
  },
  "language_info": {
   "codemirror_mode": {
    "name": "ipython",
    "version": 3
   },
   "file_extension": ".py",
   "mimetype": "text/x-python",
   "name": "python",
   "nbconvert_exporter": "python",
   "pygments_lexer": "ipython3",
   "version": "3.13.5"
  }
 },
 "nbformat": 4,
 "nbformat_minor": 5
}
