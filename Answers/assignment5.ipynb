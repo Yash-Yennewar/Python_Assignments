{
 "cells": [
  {
   "cell_type": "code",
   "execution_count": null,
   "id": "10892b6f",
   "metadata": {},
   "outputs": [],
   "source": [
    "# problems on functions"
   ]
  },
  {
   "cell_type": "code",
   "execution_count": 14,
   "id": "8c1015f8",
   "metadata": {},
   "outputs": [
    {
     "name": "stdout",
     "output_type": "stream",
     "text": [
      "215.6\n"
     ]
    }
   ],
   "source": [
    "# 1. Given the temperature of a day in Degrees Celsius, convert this given temperature from Celsius to Fahrenheit. \n",
    "# Complete the function to do so. Round the output up to 2 decimal places\n",
    "\n",
    "# Note: \n",
    "# 1. To round up the values -\n",
    "#     Python : Use round(ans,2) to round up ans to two decimals\n",
    "# 2. The formula to convert Celsius to Fahrenheit is: F = (9/5 * C) + 32\n",
    "\n",
    "def celsius_farhen(Celsius):\n",
    "    ans = (Celsius* 9/5)+32\n",
    "    return round(ans,2)\n",
    "\n",
    "print(celsius_farhen(102))"
   ]
  },
  {
   "cell_type": "code",
   "execution_count": 13,
   "id": "c4bcdc81",
   "metadata": {},
   "outputs": [
    {
     "name": "stdout",
     "output_type": "stream",
     "text": [
      "5800.0\n"
     ]
    }
   ],
   "source": [
    "# 2. Write a program to calculate\n",
    "# the total amount if the principal amount, simple interest rate per annum, and time in the number of days are given. \n",
    "# The simple interest rate per annum is provided as a percentage.\n",
    "# Assuming that there are 365 days in a year, print the total amount rounded up to 2 decimal places.\n",
    "\n",
    "# Note 1: Use round(ans,2) to round up ans up to two decimals\n",
    "\n",
    "def simple_int(time,pa,ir):\n",
    "    ''' time, pa, ir represents the time in number of days, principal amount and rate of interest Return the simple interest '''\n",
    "    interest = (pa * ir * time)/(365*100)\n",
    "    ans = pa + interest\n",
    "    return round(ans,2)\n",
    "\n",
    "print(simple_int(730,5000,8))"
   ]
  },
  {
   "cell_type": "code",
   "execution_count": null,
   "id": "d3c2ea47",
   "metadata": {},
   "outputs": [
    {
     "name": "stdout",
     "output_type": "stream",
     "text": [
      "40000.0\n"
     ]
    }
   ],
   "source": [
    "# 3. Write a program that takes the cost price of a vehicle as an argument and returns the road tax,\n",
    "# that the vehicle owner has to pay according to the following criteria:\n",
    "\n",
    "# Note1: Return the tax up to one decimal place. You can use round(tax,1)\n",
    "\n",
    "def road_tax(price):\n",
    "    if price > 100000:\n",
    "        tax = 0.2 * price\n",
    "    elif (price > 75000 and price <= 100000):\n",
    "        tax = 0.15 * price\n",
    "    elif (price > 50000 and price <= 75000):\n",
    "        tax = 0.1 * price\n",
    "    else:\n",
    "        tax = 0.05 * price\n",
    "    return round(tax,1)\n",
    "\n",
    "print(road_tax(200000))"
   ]
  },
  {
   "cell_type": "code",
   "execution_count": 9,
   "id": "405c82e7",
   "metadata": {},
   "outputs": [
    {
     "name": "stdout",
     "output_type": "stream",
     "text": [
      "79\n"
     ]
    }
   ],
   "source": [
    "# 4. You are given a positive integer A denoting the radius of a circle. \n",
    "# You have to calculate the area of the circle. \n",
    "\n",
    "# Note: The formula for the area of a circle is Area = πr², where r is the circle's radius. \n",
    "# You can use the value of PI as 3.1416. Round up the final answer up to 2 decimal places.\n",
    "# You can use round(area, 2) for rounding area to 2 decimal places\n",
    "\n",
    "import math\n",
    "\n",
    "class Solution:\n",
    "# @param A : integer\n",
    "# @return an integer\n",
    "\n",
    "    def solve(self, A):\n",
    "        return math.ceil(math.pi*(A**2))\n",
    "\n",
    "s = Solution()\n",
    "sol = s.solve(5)\n",
    "print(sol)"
   ]
  },
  {
   "cell_type": "code",
   "execution_count": 4,
   "id": "ad8172bc",
   "metadata": {},
   "outputs": [
    {
     "name": "stdout",
     "output_type": "stream",
     "text": [
      "55\n"
     ]
    }
   ],
   "source": [
    "# 5. Given an integer n, write a program to return the sum of squares of first n natural numbers in integer format.\n",
    "\n",
    "# Note1: The formula for the sum of squares of first n natural numbers is: n(n+1)(2n+1)/6\n",
    "\n",
    "def sum_squares(n):\n",
    "    ans = (n*(n+1)*(2*n+1))//6\n",
    "    return ans\n",
    "''' input:Given Integer n\n",
    "    output: Return ans as sum of squares in integer format '''\n",
    "    \n",
    "print(sum_squares(5))"
   ]
  },
  {
   "cell_type": "code",
   "execution_count": 5,
   "id": "ce749e38",
   "metadata": {},
   "outputs": [
    {
     "name": "stdout",
     "output_type": "stream",
     "text": [
      "0\n"
     ]
    }
   ],
   "source": [
    "# 6. You are given a lowercase latin alphabetic character C. You have to tell whether it is a vowel or not.\n",
    "# The characters 'a', 'e', 'i', 'o', and 'u' are called vowels.\n",
    "\n",
    "# Note: You just have to write the code inside the function and return the result.\n",
    "# The input and output is handled in the backend.\n",
    "\n",
    "# Problem Constraints:\n",
    "# C ∈ ['a' - 'z']\n",
    "\n",
    "# Input Format:\n",
    "# The input consists of a single character C.\n",
    "\n",
    "# Output Format:\n",
    "# Return 1 if the given character is a vowel, else return 0 .\n",
    "\n",
    "def isvowel(C):\n",
    "    vowel = \"aeiou\"\n",
    "    if C in vowel:\n",
    "        return 1\n",
    "    else:\n",
    "        return 0\n",
    "\n",
    "print(isvowel('C'))"
   ]
  },
  {
   "cell_type": "code",
   "execution_count": 4,
   "id": "96f99028",
   "metadata": {},
   "outputs": [
    {
     "name": "stdout",
     "output_type": "stream",
     "text": [
      "Normal\n",
      "22.5\n"
     ]
    }
   ],
   "source": [
    "# 7. Given the height (A) and weight (B) of a person as input in centimetres and kilograms.\n",
    "# Find the BMI of that person and the classification of the user based on their BMI.\n",
    "# 1. Print Underweight if BMI < 18.5\n",
    "# 2. Print Normal if BMI lies in the range [18.5, 24.9]\n",
    "# 3. Print Overweight if BMI lies in the range (24.9, 29.9]\n",
    "# 4. Print Obese if BMI is greater than 29.9\n",
    "# If x is the weight in kilograms and y is the height in metres.\n",
    "# Then, BMI is calculated as x/(y*y).\n",
    "\n",
    "# Note: Use round(BMI,1) to get only one digit after decimal\n",
    "\n",
    "# Input Format -\n",
    "# The first line contains the height of the person in centimetres.\n",
    "# The second line of the input contains the weight of the person in kilograms.\n",
    "\n",
    "# Output Format -\n",
    "# The first line of the output contains the classification of a person based on the BMI value.\n",
    "# The second line of the output contains the BMI value of the person having only one digit after decimal.\n",
    "\n",
    "def main(height_cm,weight):\n",
    "    height = height_cm/100\n",
    "    BMI = (weight/(height * height))\n",
    "# YOUR CODE GOES HERE\n",
    "# Please take input and print output to standard input/output\n",
    "# E.g. 'input()/raw_input()' for input & 'print' for output\n",
    "    return BMI\n",
    "\n",
    "def classify(BMI):\n",
    "    if BMI < 18.5:\n",
    "        return \"Underweight\"\n",
    "    elif 18.5 <= BMI <= 24.9:\n",
    "        return \"Normal\"\n",
    "    elif 24.9 < BMI <= 29.9:\n",
    "        return \"Overweight\"\n",
    "    else:\n",
    "        return (\"Obese\")\n",
    "        \n",
    "height_in_cm = int(input())\n",
    "weight_in_kg = int(input())\n",
    "\n",
    "BMI = main(height_in_cm,weight_in_kg)\n",
    "\n",
    "classification = classify(BMI)\n",
    "rounded_bmi = round(BMI,1)\n",
    "print(classification)\n",
    "print(rounded_bmi)"
   ]
  },
  {
   "cell_type": "code",
   "execution_count": null,
   "id": "078948bb",
   "metadata": {},
   "outputs": [],
   "source": [
    "# Problems in class"
   ]
  },
  {
   "cell_type": "code",
   "execution_count": 26,
   "id": "50d929b9",
   "metadata": {},
   "outputs": [
    {
     "name": "stdout",
     "output_type": "stream",
     "text": [
      "1\n"
     ]
    }
   ],
   "source": [
    "# 1. You are given 3 integer angles(in degrees) A, B and C of a triangle. You have to tell whether the triangle is valid or not.\n",
    "# A triangle is valid if sum of its angles equals to 180.\n",
    "\n",
    "# NOTE: You have to take the input of 3 sides of triangle from the user.\n",
    "\n",
    "A = int(input())\n",
    "B = int(input())\n",
    "C = int(input())\n",
    "\n",
    "if A+B+C == 180:\n",
    "    print (\"1\")\n",
    "else:\n",
    "    print(\"0\")"
   ]
  },
  {
   "cell_type": "code",
   "execution_count": 24,
   "id": "1daaba7e",
   "metadata": {},
   "outputs": [
    {
     "name": "stdout",
     "output_type": "stream",
     "text": [
      "55\n"
     ]
    }
   ],
   "source": [
    "# 2. Write a program to input two numbers(A & B) from user and print the maximum element among A & B.\n",
    "\n",
    "# Problem Constraints\n",
    "# 1 <= A <= 1000000\n",
    "# 1 <= B <= 1000000\n",
    "\n",
    "A = int(input())\n",
    "B = int(input())\n",
    "\n",
    "if 1 <= A <= 1000000 and 1 <= B <= 1000000:\n",
    "    print(max(A,B))"
   ]
  },
  {
   "cell_type": "code",
   "execution_count": 23,
   "id": "3b3b9ead",
   "metadata": {},
   "outputs": [
    {
     "name": "stdout",
     "output_type": "stream",
     "text": [
      "1\n",
      "5000\n"
     ]
    }
   ],
   "source": [
    "# 3. You are given the Cost Price C and Selling Price S of a Product. \n",
    "# You have to tell whether there is a Profit or Loss. Also, calculate total profit or loss.\n",
    "\n",
    "# NOTE: It is guaranteed that Cost Price and Selling Price are not equal.\n",
    "# NOTE: You have to take input of the Cost Price(C) and Selling Price(S) from the user.\n",
    "\n",
    "# Problem Constraints\n",
    "# C ≠ S\n",
    "# 1 <= C, S <= 109\n",
    "\n",
    "C = int(input())\n",
    "S = int(input())\n",
    "\n",
    "Profit = S-C\n",
    "if 1<=C and S<= 10**9 and C != S and Profit > 1:\n",
    "    print(1)\n",
    "    print(S-C)\n",
    "else:\n",
    "    print(-1)\n",
    "    print(-(S-C))"
   ]
  },
  {
   "cell_type": "code",
   "execution_count": 20,
   "id": "1c60b030",
   "metadata": {},
   "outputs": [
    {
     "name": "stdout",
     "output_type": "stream",
     "text": [
      "Even-Positive\n",
      "7878\n"
     ]
    }
   ],
   "source": [
    "# 4. Given the number N, Categorise the number according to following condition :\n",
    "# 1. Odd-Positive\n",
    "# 2. Odd-Negative\n",
    "# 3. Even-Positive\n",
    "# 4. Even-Negative\n",
    "\n",
    "# Note : Intention of problem is to teach you Nested If-Else, so try to solve this problem using nested if-else\n",
    "\n",
    "# Problem Constraints\n",
    "# 10000 <= N <= 10000 except 0\n",
    "\n",
    "N = int(input())\n",
    "if -10000 <= N <= 10000 and N !=0:\n",
    "    if N < 0 and N % 2 == 0:\n",
    "        print(\"Even-Negative\")\n",
    "    elif N > 0 and N % 2 == 0:\n",
    "        print(\"Even-Positive\")\n",
    "    elif N < 0 and N % 2 != 0:\n",
    "        print(\"Odd-Negative\")\n",
    "    else:\n",
    "        print(\"Odd-Positive\")\n",
    "\n",
    "print(N)"
   ]
  },
  {
   "cell_type": "code",
   "execution_count": null,
   "id": "21bfde54",
   "metadata": {},
   "outputs": [],
   "source": [
    "# Problems on Loops"
   ]
  },
  {
   "cell_type": "code",
   "execution_count": 31,
   "id": "2f221b46",
   "metadata": {},
   "outputs": [
    {
     "name": "stdout",
     "output_type": "stream",
     "text": [
      "18\n",
      "15\n"
     ]
    }
   ],
   "source": [
    "# 1. Problem Description\n",
    "# Take T (number of test cases) as input.For each test case, take integer N as input and Print the count of digits of that number.\n",
    "\n",
    "# Note: No of digits for number 0 is considered as 1.\n",
    "\n",
    "# Problem Constraints\n",
    "# 1 <= T <= 10000 <= N <= 100000000\n",
    "\n",
    "T = int(input())\n",
    "for _ in range(T):\n",
    "    N = int(input())\n",
    "    if N == 0:\n",
    "        print(1)\n",
    "    else:\n",
    "        print(len(str(N)))"
   ]
  },
  {
   "cell_type": "code",
   "execution_count": 30,
   "id": "dd893ad0",
   "metadata": {},
   "outputs": [
    {
     "name": "stdout",
     "output_type": "stream",
     "text": [
      "53014798652\n"
     ]
    }
   ],
   "source": [
    "# 2. Problem Description\n",
    "# Write a program that accepts T numbers(N) from the user and find reverse of the given number(N).\n",
    "\n",
    "# Problem Constraints\n",
    "# 1 <= T <= 100\n",
    "# 1 <= N <= 100000000\n",
    "\n",
    "T = int(input())\n",
    "for _ in range(T):\n",
    "    N = int(input())\n",
    "    reverse = 0\n",
    "    while N > 0:\n",
    "        digit = N % 10\n",
    "        reverse = reverse * 10 + digit\n",
    "        N = N // 10\n",
    "    print(reverse)"
   ]
  },
  {
   "cell_type": "code",
   "execution_count": 34,
   "id": "d6f5c407",
   "metadata": {},
   "outputs": [
    {
     "name": "stdout",
     "output_type": "stream",
     "text": [
      "*     *\n",
      "*    *\n",
      "*   *\n",
      "*  *\n",
      "* *\n"
     ]
    }
   ],
   "source": [
    "# 1. Take an integer N as input. Print the following pattern of N lines. For N = 5 The following pattern is printed.\n",
    "# *     *\n",
    "# *    *\n",
    "# *   *\n",
    "# *  *\n",
    "# * *\n",
    "\n",
    "N = int(input())\n",
    "for i in range(N, 0, -1):\n",
    "    for j in range(0, i + 2):\n",
    "        if j == 0 or j == i + 1:\n",
    "            print(\"*\", end=\"\")\n",
    "        else:\n",
    "            print(\" \", end=\"\")\n",
    "    print()"
   ]
  },
  {
   "cell_type": "code",
   "execution_count": 35,
   "id": "cbefcfb2",
   "metadata": {},
   "outputs": [
    {
     "name": "stdout",
     "output_type": "stream",
     "text": [
      "*****\n",
      " ****\n",
      "  ***\n",
      "   **\n",
      "    *\n"
     ]
    }
   ],
   "source": [
    "# 2. Take an integer N as input, print the corresponding pattern for N. \n",
    "# For example if N = 5 then pattern will be like:\n",
    "# *****\n",
    "# _****\n",
    "# __***\n",
    "# ___**\n",
    "# ____*\n",
    "\n",
    "N=int(input())\n",
    "for i in range(1,N+1):\n",
    "    for j in range(1,N+1):\n",
    "        if j<i:\n",
    "            print(\" \",end=\"\")\n",
    "        else:\n",
    "            print(\"*\",end=\"\")\n",
    "    print()"
   ]
  },
  {
   "cell_type": "code",
   "execution_count": 39,
   "id": "586df8ff",
   "metadata": {},
   "outputs": [
    {
     "name": "stdout",
     "output_type": "stream",
     "text": [
      "    * \n",
      "   * * \n",
      "  * * * \n",
      " * * * * \n",
      "* * * * * \n"
     ]
    }
   ],
   "source": [
    "# 3. Take an integer N, print the corresponding Full Pyramid pattern for N.\n",
    "# For example if N = 5 then pattern will be like:\n",
    "#     * \n",
    "#    * * \n",
    "#   * * * \n",
    "#  * * * * \n",
    "# * * * * * \n",
    "\n",
    "N = int(input())\n",
    "for i in range(N):\n",
    "    print(\" \" * (N - i - 1) + \"* \" * (i + 1))"
   ]
  },
  {
   "cell_type": "code",
   "execution_count": 40,
   "id": "e16dc02c",
   "metadata": {},
   "outputs": [
    {
     "name": "stdout",
     "output_type": "stream",
     "text": [
      "1\n",
      "1 \n",
      "1 3\n",
      "1 3 \n",
      "1 3 5\n"
     ]
    }
   ],
   "source": [
    "# 4. Take an integer N as input, print the corresponding pattern for N.\n",
    "# For example if N = 5 then pattern will be like:\n",
    "# 1\n",
    "# 1_\n",
    "# 1_3\n",
    "# 1_3_\n",
    "# 1_3_5\n",
    "\n",
    "def main():\n",
    "# YOUR CODE GOES HERE\n",
    "# Please take input and print output to standard input/output\n",
    "# E.g. 'input()/raw_input()' for input & 'print' for output\n",
    "    n=int(input())\n",
    "    for r in range(1,n+1):\n",
    "        for j in range(1,r+1):\n",
    "            #print('j' ,j,end=\" \")\n",
    "            if j %2!=0:\n",
    "                print(j,end= \"\")\n",
    "            else:\n",
    "                print(\" \",end=\"\")\n",
    "        print()\n",
    "    return 0\n",
    "if __name__ == '__main__':\n",
    "    main()"
   ]
  },
  {
   "cell_type": "code",
   "execution_count": 41,
   "id": "b46de2ba",
   "metadata": {},
   "outputs": [
    {
     "name": "stdout",
     "output_type": "stream",
     "text": [
      "*****\n",
      "****\n",
      "***\n",
      "**\n",
      "*\n"
     ]
    }
   ],
   "source": [
    "# 5. Take an Integer N as input. Print an Inverse half pyramid of N lines using * .\n",
    "# For example for N = 5, the output should be the following pattern:-\n",
    "# *****\n",
    "# ****\n",
    "# ***\n",
    "# **\n",
    "# *\n",
    "\n",
    "N = int(input())\n",
    "for i in range(N, 0, -1):\n",
    "    print(\"*\" * i)"
   ]
  },
  {
   "cell_type": "code",
   "execution_count": 42,
   "id": "e1e91ce6",
   "metadata": {},
   "outputs": [
    {
     "name": "stdout",
     "output_type": "stream",
     "text": [
      "    *\n",
      "   **\n",
      "  ***\n",
      " ****\n",
      "*****\n"
     ]
    }
   ],
   "source": [
    "# 6. Take an integer N as input, print the corresponding pattern for N.\n",
    "# For example if N = 5 then pattern will be like:\n",
    "# ____*\n",
    "# ___**\n",
    "# __***\n",
    "# _****\n",
    "# *****\n",
    "\n",
    "N = int(input())\n",
    "for i in range(N, 0, -1):\n",
    "    print(\" \" * (i - 1) + \"*\" * (N - i + 1))"
   ]
  }
 ],
 "metadata": {
  "kernelspec": {
   "display_name": "Python 3",
   "language": "python",
   "name": "python3"
  },
  "language_info": {
   "codemirror_mode": {
    "name": "ipython",
    "version": 3
   },
   "file_extension": ".py",
   "mimetype": "text/x-python",
   "name": "python",
   "nbconvert_exporter": "python",
   "pygments_lexer": "ipython3",
   "version": "3.13.5"
  }
 },
 "nbformat": 4,
 "nbformat_minor": 5
}
