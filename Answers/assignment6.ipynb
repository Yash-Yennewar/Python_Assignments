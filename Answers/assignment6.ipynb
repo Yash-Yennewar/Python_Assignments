{
 "cells": [
  {
   "cell_type": "code",
   "execution_count": 1,
   "id": "d4a94587",
   "metadata": {},
   "outputs": [],
   "source": [
    "# Functions and Lambda Expressions"
   ]
  },
  {
   "cell_type": "code",
   "execution_count": 2,
   "id": "214f9c21",
   "metadata": {},
   "outputs": [],
   "source": [
    "# 1. Short Answer Questions"
   ]
  },
  {
   "cell_type": "code",
   "execution_count": 3,
   "id": "7b3e195e",
   "metadata": {},
   "outputs": [
    {
     "name": "stdout",
     "output_type": "stream",
     "text": [
      "8\n",
      "8\n"
     ]
    }
   ],
   "source": [
    "# Q1. Explain the difference between def statements and lambda expressions. Give an example of each.\n",
    "\n",
    "# def statement is Used to define a named function, supports multiple expressions, readability, and reusability.\n",
    "# lambda expression is Creates an anonymous (nameless) function in one line, limited to a single expression.\n",
    "\n",
    "def add(a, b):\n",
    "    return a + b\n",
    "print(add(5, 3))\n",
    "\n",
    "add_lambda = lambda a, b : a + b\n",
    "print(add_lambda(5, 3))"
   ]
  },
  {
   "cell_type": "code",
   "execution_count": 4,
   "id": "8ba79a9f",
   "metadata": {},
   "outputs": [],
   "source": [
    "# Q2. List and explain three benefits of using lambda expressions.\n",
    "\n",
    "# 1. Conciseness – Write small functions in one line without def.\n",
    "# 2. Inline use – Can be directly used inside map(), filter(), sorted(), etc.\n",
    "# 3. No naming overhead – Useful when a function is needed temporarily (avoids cluttering namespace)."
   ]
  },
  {
   "cell_type": "code",
   "execution_count": 5,
   "id": "2018dddc",
   "metadata": {},
   "outputs": [
    {
     "name": "stdout",
     "output_type": "stream",
     "text": [
      "[1, 4, 9, 16, 25]\n",
      "[2, 4]\n",
      "120\n"
     ]
    }
   ],
   "source": [
    "# Q3. Compare map(), filter(), and reduce() with one-line examples using a lambda function and a list.\n",
    "\n",
    "from functools import reduce\n",
    "\n",
    "nums = [1, 2, 3, 4, 5]\n",
    "\n",
    "print(list(map(lambda x : x**2, nums)))\n",
    "print(list(filter(lambda x : x % 2 == 0, nums)))\n",
    "print(reduce(lambda x, y : x * y, nums)) \n",
    "\n",
    "# map() - Transforms every element.\n",
    "# filter() - Selects elements based on condition.\n",
    "# reduce() - Combines elements into a single result."
   ]
  },
  {
   "cell_type": "code",
   "execution_count": 6,
   "id": "f315ba79",
   "metadata": {},
   "outputs": [
    {
     "name": "stdout",
     "output_type": "stream",
     "text": [
      "Hello Yash, you are 24 years old.\n"
     ]
    }
   ],
   "source": [
    "# Q4. What are function annotations in Python? Write a function that uses them.\n",
    "\n",
    "# Function annotations - Provide metadata (like expected input/output types) but do not enforce them.\n",
    "\n",
    "def greet(name: str, age: int) -> str:\n",
    "    return f\"Hello {name}, you are {age} years old.\"\n",
    "\n",
    "print(greet(\"Yash\", 24))"
   ]
  },
  {
   "cell_type": "code",
   "execution_count": 7,
   "id": "9f7ac7ba",
   "metadata": {},
   "outputs": [
    {
     "name": "stdout",
     "output_type": "stream",
     "text": [
      "120\n"
     ]
    }
   ],
   "source": [
    "# Q5. What is a recursive function? Write a simple recursive function to calculate the factorial of a number.\n",
    "\n",
    "# Recursive function - A function that calls itself until a base condition is met.\n",
    "\n",
    "def factorial(n: int) -> int:\n",
    "    if n == 0 or n == 1:\n",
    "        return 1\n",
    "    return n * factorial(n - 1)\n",
    "\n",
    "print(factorial(5))"
   ]
  },
  {
   "cell_type": "code",
   "execution_count": 8,
   "id": "428c3810",
   "metadata": {},
   "outputs": [],
   "source": [
    "# Q6. State five design guidelines you should follow while writing functions in Python.\n",
    "\n",
    "# 1. Keep functions short and focused on a single task.\n",
    "# 2. Use meaningful names for readability.\n",
    "# 3. Add docstrings/comments to explain purpose.\n",
    "# 4. Avoid using global variables inside functions.\n",
    "# 5. Prefer return values over printing directly."
   ]
  },
  {
   "cell_type": "code",
   "execution_count": 9,
   "id": "0a5d3c14",
   "metadata": {},
   "outputs": [
    {
     "name": "stdout",
     "output_type": "stream",
     "text": [
      "16\n",
      "1\n",
      "2\n",
      "Hello\n"
     ]
    }
   ],
   "source": [
    "# Q7. Name at least three ways a function can communicate results to a caller and briefly explain each.\n",
    "\n",
    "# Return statement - Passes back values.\n",
    "\n",
    "def square(x): return x**2\n",
    "print(square(4))  # 16\n",
    "\n",
    "\n",
    "# Yield (generator) - Sends values one by one, allows iteration.\n",
    "\n",
    "def gen(): \n",
    "    yield 1\n",
    "    yield 2\n",
    "for val in gen() : print(val)\n",
    "\n",
    "\n",
    "# Print - Outputs to console but does not return to caller.\n",
    "\n",
    "def show(): print(\"Hello\")\n",
    "show()"
   ]
  },
  {
   "cell_type": "code",
   "execution_count": 10,
   "id": "d967f5b9",
   "metadata": {},
   "outputs": [],
   "source": [
    "# 2. Coding Tasks"
   ]
  },
  {
   "cell_type": "code",
   "execution_count": 11,
   "id": "224e578f",
   "metadata": {},
   "outputs": [
    {
     "name": "stdout",
     "output_type": "stream",
     "text": [
      "35\n"
     ]
    }
   ],
   "source": [
    "# Task 1:\n",
    "# Write a lambda function that takes two numbers and returns their product. Assign it to a variable and call it with 5 and 7.\n",
    "\n",
    "multiply = lambda a, b : a * b  \n",
    "result = multiply(5, 7)\n",
    "print(result)"
   ]
  },
  {
   "cell_type": "code",
   "execution_count": 12,
   "id": "95f64fc2",
   "metadata": {},
   "outputs": [
    {
     "name": "stdout",
     "output_type": "stream",
     "text": [
      "[1, 4, 9, 16, 25]\n"
     ]
    }
   ],
   "source": [
    "# Task 2:\n",
    "# Use map() to square every number in a list [1, 2, 3, 4, 5].\n",
    "\n",
    "numbers = [1, 2, 3, 4, 5]\n",
    "squared_numbers = list(map(lambda x : x**2, numbers))\n",
    "print(squared_numbers)"
   ]
  },
  {
   "cell_type": "code",
   "execution_count": 13,
   "id": "e1476bd9",
   "metadata": {},
   "outputs": [
    {
     "name": "stdout",
     "output_type": "stream",
     "text": [
      "[10, 20, 30]\n"
     ]
    }
   ],
   "source": [
    "# Task 3:\n",
    "# Use filter() to extract only the even numbers from the list [10, 15, 20, 25, 30].\n",
    "\n",
    "numbers = [10, 15, 20, 25, 30]\n",
    "even_numbers = list(filter(lambda x : x % 2 == 0, numbers))\n",
    "print(even_numbers)"
   ]
  },
  {
   "cell_type": "code",
   "execution_count": 14,
   "id": "260e5145",
   "metadata": {},
   "outputs": [
    {
     "name": "stdout",
     "output_type": "stream",
     "text": [
      "120\n"
     ]
    }
   ],
   "source": [
    "# Task 4:\n",
    "# Use reduce() from functools to calculate the product of numbers in [1, 2, 3, 4, 5].\n",
    "\n",
    "from functools import reduce\n",
    "\n",
    "numbers = [1, 2, 3, 4, 5]\n",
    "product = reduce(lambda x, y : x * y, numbers)\n",
    "print(product)"
   ]
  },
  {
   "cell_type": "code",
   "execution_count": 15,
   "id": "ce6cdb27",
   "metadata": {},
   "outputs": [
    {
     "name": "stdout",
     "output_type": "stream",
     "text": [
      "The Enter Number is : 12\n",
      "------------------------\n",
      "The Number is : Even\n"
     ]
    }
   ],
   "source": [
    "# Task 5:\n",
    "# Create a function with annotations that:\n",
    "# takes an integer as input,\n",
    "# returns a string saying whether it is \"Even\" or \"Odd\".\n",
    "\n",
    "num = 12\n",
    "print(\"The Enter Number is :\",num)\n",
    "print(\"--\" * 12)\n",
    "\n",
    "odd_even = lambda num : \"Even\" if num % 2 == 0 else \"Odd\"\n",
    "print(\"The Number is :\",odd_even(num))"
   ]
  },
  {
   "cell_type": "code",
   "execution_count": 16,
   "id": "a4aff01a",
   "metadata": {},
   "outputs": [
    {
     "name": "stdout",
     "output_type": "stream",
     "text": [
      "55\n"
     ]
    }
   ],
   "source": [
    "# Task 6:\n",
    "# Write a recursive function to compute the sum of all numbers from 1 to n.\n",
    "\n",
    "def recursive_sum(n):\n",
    "    if n == 1:\n",
    "        return 1\n",
    "    return n + recursive_sum(n - 1)\n",
    "\n",
    "print(recursive_sum(10))"
   ]
  },
  {
   "cell_type": "code",
   "execution_count": 17,
   "id": "b86790bb",
   "metadata": {},
   "outputs": [
    {
     "name": "stdout",
     "output_type": "stream",
     "text": [
      "Output using print\n",
      "Output using return\n",
      "Output using yield\n",
      "Another yielded value\n"
     ]
    }
   ],
   "source": [
    "# Bonus Question\n",
    "# Write a function that returns different results using print, return, and yield.\n",
    "# Call the function and show how each type of output works.\n",
    "\n",
    "def with_print():\n",
    "    print(\"Output using print\")\n",
    "\n",
    "def with_return():\n",
    "    return \"Output using return\"\n",
    "\n",
    "def with_yield():\n",
    "    yield \"Output using yield\"\n",
    "    yield \"Another yielded value\"\n",
    "\n",
    "with_print()\n",
    "\n",
    "result = with_return()\n",
    "print(result)\n",
    "\n",
    "gen = with_yield()\n",
    "for val in gen:\n",
    "    print(val)"
   ]
  }
 ],
 "metadata": {
  "kernelspec": {
   "display_name": "Python 3",
   "language": "python",
   "name": "python3"
  },
  "language_info": {
   "codemirror_mode": {
    "name": "ipython",
    "version": 3
   },
   "file_extension": ".py",
   "mimetype": "text/x-python",
   "name": "python",
   "nbconvert_exporter": "python",
   "pygments_lexer": "ipython3",
   "version": "3.13.5"
  }
 },
 "nbformat": 4,
 "nbformat_minor": 5
}
