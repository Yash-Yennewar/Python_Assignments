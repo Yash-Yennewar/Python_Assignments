{
 "cells": [
  {
   "cell_type": "code",
   "execution_count": 9,
   "id": "0ca5f5fc-ef7f-4b6f-b68c-f504a4430290",
   "metadata": {},
   "outputs": [
    {
     "name": "stdout",
     "output_type": "stream",
     "text": [
      "Name : Yash \n",
      "Favourite colour : Blue\n"
     ]
    }
   ],
   "source": [
    "# 1. Question 1:\n",
    "# Write a Python program to print your name and favourite colour on two separate lines.\n",
    "\n",
    "print(\"Name : Yash \\nFavourite colour : Blue\")"
   ]
  },
  {
   "cell_type": "code",
   "execution_count": 18,
   "id": "d2118087-8b22-41b0-b837-defb7c006bc6",
   "metadata": {},
   "outputs": [
    {
     "name": "stdout",
     "output_type": "stream",
     "text": [
      "The sum of two number is 15\n"
     ]
    }
   ],
   "source": [
    "# 2. Question 2:\n",
    "# Write a Python program that prints the result of adding 7 and 8.\n",
    "\n",
    "num1 = 7\n",
    "num2 = 8\n",
    "print(\"The sum of two number is\",num1 + num2)"
   ]
  },
  {
   "cell_type": "code",
   "execution_count": 11,
   "id": "dd03da8c-8ffe-413b-84d5-fc811a4ec981",
   "metadata": {},
   "outputs": [
    {
     "name": "stdout",
     "output_type": "stream",
     "text": [
      "Python is fun!\n",
      "Let's learn together.\n"
     ]
    }
   ],
   "source": [
    "# 3. Question 3:\n",
    "# Use the print function to display the following text exactly as it is:\n",
    "\n",
    "print(\"Python is fun!\\nLet's learn together.\")"
   ]
  },
  {
   "cell_type": "code",
   "execution_count": 12,
   "id": "68fd110e-f1e9-4a7a-a9ba-4b11e4ec4e66",
   "metadata": {},
   "outputs": [
    {
     "name": "stdout",
     "output_type": "stream",
     "text": [
      "Multiplication Result = 54\n"
     ]
    }
   ],
   "source": [
    "# 4. Question 4:\n",
    "# Write a Python program to calculate and print the result of multiplying 6 by 9.\n",
    "\n",
    "print(\"Multiplication Result =\",6 * 9)"
   ]
  },
  {
   "cell_type": "code",
   "execution_count": 13,
   "id": "c3269902-b6cb-4f16-9447-c098f330f268",
   "metadata": {},
   "outputs": [
    {
     "name": "stdout",
     "output_type": "stream",
     "text": [
      "Addition = 10 \tMultiplication = 6\n"
     ]
    }
   ],
   "source": [
    "# 5. Question 5:\n",
    "# Write a Python program that prints the result of adding 5 + 5 and multiplying 2 * 3 in a single line of code.\n",
    "\n",
    "print(\"Addition =\",5 + 5,\"\\tMultiplication =\",2 * 3)"
   ]
  },
  {
   "cell_type": "code",
   "execution_count": 14,
   "id": "e3eec4b4-292d-4c41-b306-efa1fdfc208c",
   "metadata": {},
   "outputs": [
    {
     "name": "stdout",
     "output_type": "stream",
     "text": [
      "Hello Yash\n"
     ]
    }
   ],
   "source": [
    "# 1. Take the name A as input from the user and print \"Hello A\", where A is the name in input.\n",
    "\n",
    "A = input(\"Enter your Name :\")\n",
    "print(\"Hello\",A)"
   ]
  },
  {
   "cell_type": "code",
   "execution_count": 15,
   "id": "3ddb079e-edbd-4c93-b8a2-d0538494c475",
   "metadata": {},
   "outputs": [
    {
     "name": "stdout",
     "output_type": "stream",
     "text": [
      "The Bank balanced = 500.0\n"
     ]
    }
   ],
   "source": [
    "# 2. You have x rupees in your savings. You google pay y rupees, print your bank balance\n",
    "\n",
    "x = 1000\n",
    "y = float(input(\"Enter the Amount to Pay =\"))\n",
    "balanced = x - y\n",
    "print(\"The Bank balanced =\",balanced)"
   ]
  },
  {
   "cell_type": "code",
   "execution_count": 16,
   "id": "f170969c-6a9a-4f3e-a0be-b01b75b0d268",
   "metadata": {},
   "outputs": [
    {
     "name": "stdout",
     "output_type": "stream",
     "text": [
      "A\n",
      "B\n",
      "C\n",
      "D\n",
      "E\n"
     ]
    }
   ],
   "source": [
    "# 3. Print the first five letters of the English alphabet i.e. A, B, C, D and E. one below each other\n",
    "\n",
    "alphabet = [\"A\",\"B\",\"C\",\"D\",\"E\",\"G\",\"H\"]\n",
    "for el in range(5):\n",
    "    print(alphabet[el])"
   ]
  },
  {
   "cell_type": "code",
   "execution_count": 17,
   "id": "42dce0b0-a83b-42fd-9981-7e69ac358708",
   "metadata": {},
   "outputs": [
    {
     "name": "stdout",
     "output_type": "stream",
     "text": [
      "yash says Hi to sam\n"
     ]
    }
   ],
   "source": [
    "# 4. Take two names A and B as input from the user, and print \"A says Hi to B\" (Without quotations), where A and B are the names in input.\n",
    "\n",
    "A = input(\"Enter for Name(for A) :\")\n",
    "B = input(\"Enter for Name(for B) :\")\n",
    "print(A,\"says Hi to\",B)"
   ]
  }
 ],
 "metadata": {
  "kernelspec": {
   "display_name": "Python 3",
   "language": "python",
   "name": "python3"
  },
  "language_info": {
   "codemirror_mode": {
    "name": "ipython",
    "version": 3
   },
   "file_extension": ".py",
   "mimetype": "text/x-python",
   "name": "python",
   "nbconvert_exporter": "python",
   "pygments_lexer": "ipython3",
   "version": "3.13.5"
  }
 },
 "nbformat": 4,
 "nbformat_minor": 5
}
