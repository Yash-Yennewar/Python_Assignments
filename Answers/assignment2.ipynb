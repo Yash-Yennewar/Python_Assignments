{
 "cells": [
  {
   "cell_type": "code",
   "execution_count": 1,
   "id": "24978619-9064-4317-b425-4fddc6096ca7",
   "metadata": {},
   "outputs": [
    {
     "name": "stdout",
     "output_type": "stream",
     "text": [
      "Age = 25 \n",
      "Type = <class 'int'>\n"
     ]
    }
   ],
   "source": [
    "# 1. Question 1:\n",
    "# Create a variable age and assign it the value 25 .\n",
    "# Then print the value of age along with its data type using the type() function.\n",
    "\n",
    "age = 25\n",
    "print(\"Age =\",age,\"\\nType =\",type(age))"
   ]
  },
  {
   "cell_type": "code",
   "execution_count": 2,
   "id": "747d6d88-4b26-4414-9706-e88874722133",
   "metadata": {},
   "outputs": [
    {
     "name": "stdout",
     "output_type": "stream",
     "text": [
      "12.5 <class 'float'>\n",
      "12 <class 'int'>\n"
     ]
    }
   ],
   "source": [
    "# 2. Question 2:\n",
    "# Assign the number 12.5 to a variable price . Print both the variable and its data type.\n",
    "# Then assign the value 12 to the same variable and print its data type again. What do you observe?\n",
    "\n",
    "num = 12.5\n",
    "print(num,type(num))\n",
    "num = 12\n",
    "print(num,type(num))"
   ]
  },
  {
   "cell_type": "code",
   "execution_count": 3,
   "id": "807f84eb-9d6e-4abe-a43c-c946674b271c",
   "metadata": {},
   "outputs": [
    {
     "name": "stdout",
     "output_type": "stream",
     "text": [
      "True <class 'bool'>\n",
      "False <class 'bool'>\n"
     ]
    }
   ],
   "source": [
    "# 3. Question 3:\n",
    "# Create a variable is_raining and set it to True . Print the value of the variable along with its type.\n",
    "# Then set is_raining to False and print the new value and type.\n",
    "\n",
    "is_raining = True\n",
    "print(is_raining,type(is_raining))\n",
    "is_raining = False\n",
    "print(is_raining,type(is_raining))"
   ]
  },
  {
   "cell_type": "code",
   "execution_count": 4,
   "id": "626491fc-b6f9-47d9-ab24-e45297d3daeb",
   "metadata": {},
   "outputs": [
    {
     "name": "stdout",
     "output_type": "stream",
     "text": [
      "Str = Yash Yennewar \n",
      "Type = <class 'str'>\n"
     ]
    }
   ],
   "source": [
    "# 4. Question 4:\n",
    "# Create a variable my_name and store your full name in it as a string.\n",
    "# Then print the value of my_name using single quotes '.\n",
    "\n",
    "my_name = \"Yash Yennewar\"\n",
    "print('Str =',my_name,'\\nType =',type(my_name))"
   ]
  },
  {
   "cell_type": "code",
   "execution_count": 5,
   "id": "5d7dbd9b-6170-4aa7-b915-6a80f1a199de",
   "metadata": {},
   "outputs": [
    {
     "name": "stdout",
     "output_type": "stream",
     "text": [
      "Hello, Yash ! You are 24 years old.\n"
     ]
    }
   ],
   "source": [
    "# 5. Question 5:\n",
    "# Write a Python program that asks the user for their name and age using the input() function.\n",
    "# Store the inputs in variables and print a sentence like \"Hello, [Name]! You are [Age] years old.\"\n",
    "# Ensure you cast the age to an integer.\n",
    "\n",
    "name = input(\"Enter your Name :\")\n",
    "age = int(input(\"Enter your age :\"))\n",
    "print(\"Hello,\",name,\"! You are\",age,\"years old.\")"
   ]
  },
  {
   "cell_type": "code",
   "execution_count": 6,
   "id": "f21d6f65-c462-48fb-95b8-b06e7137184b",
   "metadata": {},
   "outputs": [
    {
     "name": "stdout",
     "output_type": "stream",
     "text": [
      "x = 10 \n",
      "Type = <class 'int'> \n",
      "y = 3.5 \n",
      "Type = <class 'float'>\n",
      "sum_xy = 13.5 \tType = <class 'float'>\n"
     ]
    }
   ],
   "source": [
    "# 6. Question 6:\n",
    "# Create two variables x and y and assign them the values 10 and 3.5 , respectively.\n",
    "# Print their values and types. Then, create a new variable sum_xy and store the sum of x and y .\n",
    "# Print the result and its type.\n",
    "\n",
    "x = 10\n",
    "y = 3.5\n",
    "print(\"x =\",x,\"\\nType =\",type(x),\"\\ny =\",y,\"\\nType =\",type(y))\n",
    "sum_xy = x + y\n",
    "print(\"sum_xy =\",sum_xy,\"\\tType =\",type(sum_xy))"
   ]
  },
  {
   "cell_type": "code",
   "execution_count": 7,
   "id": "f3654bc3-a641-490d-b6bf-a13e93f77269",
   "metadata": {},
   "outputs": [
    {
     "name": "stdout",
     "output_type": "stream",
     "text": [
      "<class 'float'> \n",
      " <class 'str'> \n",
      " <class 'NoneType'> \n",
      " <class 'bool'>\n"
     ]
    }
   ],
   "source": [
    "# 7. Question 7:\n",
    "# Using the type() function, check and print the data type of the following:\n",
    "# 45.0\n",
    "# \"hello\"\n",
    "# None\n",
    "# False\n",
    "\n",
    "num = 45.0\n",
    "str = \"hello\"\n",
    "none = None\n",
    "bool = False\n",
    "\n",
    "print(type(num),\"\\n\",type(str),\"\\n\",type(none),\"\\n\",type(bool))"
   ]
  },
  {
   "cell_type": "code",
   "execution_count": 8,
   "id": "23c3cc74-5454-4b5f-af43-e0ebbc39e97d",
   "metadata": {},
   "outputs": [
    {
     "name": "stdout",
     "output_type": "stream",
     "text": [
      "apple banana cherry\n",
      "apple,banana,cherry\n"
     ]
    }
   ],
   "source": [
    "# 8. Question 8:\n",
    "# Write a Python program\n",
    "# to print three strings \"apple\" , \"banana\" , and \"cherry\" on the same line, separated by a space.\n",
    "# Then modify the program to separate the strings using a comma , instead of a space.\n",
    "\n",
    "print(\"apple\",\"banana\",\"cherry\")\n",
    "print(\"apple\",\"banana\",\"cherry\",sep=\",\")"
   ]
  },
  {
   "cell_type": "code",
   "execution_count": 9,
   "id": "a9ece59d-8240-4b13-a857-68c8bd741f03",
   "metadata": {},
   "outputs": [
    {
     "name": "stdout",
     "output_type": "stream",
     "text": [
      "big_number = 987654321987654321 \n",
      "Type = <class 'int'>\n"
     ]
    }
   ],
   "source": [
    "# 9. Question 9:\n",
    "# Create a variable big_number and assign it a very large integer value (e.g., 987654321987654321 ).\n",
    "# Print the value and its type. What do you notice about the size of the number?\n",
    "\n",
    "big_number = 987654321987654321\n",
    "print(\"big_number =\",big_number,\"\\nType =\",type(big_number))\n"
   ]
  },
  {
   "cell_type": "code",
   "execution_count": 10,
   "id": "2c153e1f-f99b-495c-b400-e1432e1139f2",
   "metadata": {},
   "outputs": [
    {
     "name": "stdout",
     "output_type": "stream",
     "text": [
      "multiply = 9.25 \n",
      "Type = <class 'float'>\n"
     ]
    }
   ],
   "source": [
    "# 10. Question 10:\n",
    "# Write a Python program that prints the result of multiplying two floats (e.g., 2.5 and 3.7 ).\n",
    "# Then check and print the data type of the result.\n",
    "\n",
    "num1 = 2.5\n",
    "num2 = 3.7\n",
    "multiply = num1 * num2\n",
    "print(\"multiply =\",multiply,\"\\nType =\",type(multiply))"
   ]
  }
 ],
 "metadata": {
  "kernelspec": {
   "display_name": "Python 3",
   "language": "python",
   "name": "python3"
  },
  "language_info": {
   "codemirror_mode": {
    "name": "ipython",
    "version": 3
   },
   "file_extension": ".py",
   "mimetype": "text/x-python",
   "name": "python",
   "nbconvert_exporter": "python",
   "pygments_lexer": "ipython3",
   "version": "3.13.5"
  }
 },
 "nbformat": 4,
 "nbformat_minor": 5
}
