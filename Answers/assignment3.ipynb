{
 "cells": [
  {
   "cell_type": "code",
   "execution_count": 1,
   "id": "50cdf3ca",
   "metadata": {},
   "outputs": [
    {
     "name": "stdout",
     "output_type": "stream",
     "text": [
      "Perform Normal division by 15/4 : 3.75\n",
      "Perform floored division by 15/4 : 3\n"
     ]
    }
   ],
   "source": [
    "# 1. Question 1:\n",
    "# Create a variable x with the value 15 . Perform floored division by 4 and print the result. \n",
    "# What is the difference between floored division and normal division?\n",
    "\n",
    "x = 15\n",
    "print(\"Perform Normal division by 15/4 :\",x/4)\n",
    "print(\"Perform floored division by 15/4 :\",x//4)\n",
    "\n",
    "# Difference between Normal & Floor division is that floor division returns nearest whole number and \n",
    "# Normal divisoin gives complete division in float value."
   ]
  },
  {
   "cell_type": "code",
   "execution_count": 2,
   "id": "49047703",
   "metadata": {},
   "outputs": [
    {
     "name": "stdout",
     "output_type": "stream",
     "text": [
      "8 ** 2 : 64\n",
      "16 ** 0.5 : 4.0\n"
     ]
    }
   ],
   "source": [
    "# 2. Question 2:\n",
    "# Write a program to calculate 8 ** 2 and 16 ** 0.5 . Print both results and describe what each represents.\n",
    "\n",
    "print(\"8 ** 2 :\",8 ** 2)\n",
    "print(\"16 ** 0.5 :\",16 ** 0.5)\n",
    "\n",
    "# 8 ** 2 means 8 raised to the power of 2 → which is 64. It represents the square of 8.\n",
    "# 16 ** 0.5 means 16 raised to the power of 0.5 → which is 4.0. It represents the square root of 16."
   ]
  },
  {
   "cell_type": "code",
   "execution_count": 3,
   "id": "690c887d",
   "metadata": {},
   "outputs": [
    {
     "name": "stdout",
     "output_type": "stream",
     "text": [
      "-5.0\n"
     ]
    }
   ],
   "source": [
    "# 3. Question 3:\n",
    "# Use arithmetic operators to solve the following expression: 20 - 5 * 3 + 8 / 4 . \n",
    "# Use parentheses to make sure the addition happens before multiplication. Print the output.\n",
    "\n",
    "x = 20 - 5 * (3 + (8 / 4))\n",
    "print(x)"
   ]
  },
  {
   "cell_type": "code",
   "execution_count": 4,
   "id": "c2f4f11e",
   "metadata": {},
   "outputs": [
    {
     "name": "stdout",
     "output_type": "stream",
     "text": [
      "Num value : 7\n",
      "Convert to Float value : 7.0\n"
     ]
    }
   ],
   "source": [
    "# 4. Question 4:\n",
    "# Assign the value 7 to a variable num . Convert it to a float and print the result.\n",
    "# What is the difference between 7 and 7.0 ?\n",
    "\n",
    "num = 7\n",
    "print(\"Num value :\",num)\n",
    "print(\"Convert to Float value :\",float(num))\n",
    "\n",
    "# When we convert int into float, float gives decimal value while int gives whole value."
   ]
  },
  {
   "cell_type": "code",
   "execution_count": 5,
   "id": "330e99d8",
   "metadata": {},
   "outputs": [
    {
     "name": "stdout",
     "output_type": "stream",
     "text": [
      "True\n"
     ]
    }
   ],
   "source": [
    "# 5. Question 5:\n",
    "# Use a comparison operator to check if 100 is greater than 50 . Print the result and indicate what type of value this is.\n",
    "\n",
    "x = 100 > 50\n",
    "print(x)\n",
    "\n",
    "# Result is True. It indicates that 100 > 50."
   ]
  },
  {
   "cell_type": "code",
   "execution_count": 6,
   "id": "61cf821f",
   "metadata": {},
   "outputs": [
    {
     "name": "stdout",
     "output_type": "stream",
     "text": [
      "is_sunny and is_weekend: False\n"
     ]
    }
   ],
   "source": [
    "# 6. Question 6:\n",
    "# Assign True to a variable is_sunny and False to is_weekend .\n",
    "# Use logical operators to check if it is sunny and the weekend ( is_sunny and is_weekend ). Print the result.\n",
    "\n",
    "is_sunny = True\n",
    "is_weekend = False\n",
    "print(\"is_sunny and is_weekend:\", is_sunny and is_weekend)\n",
    "\n",
    "# Returns False because is_sunny is True and is_weekend is False"
   ]
  },
  {
   "cell_type": "code",
   "execution_count": 7,
   "id": "77a4fe58",
   "metadata": {},
   "outputs": [
    {
     "name": "stdout",
     "output_type": "stream",
     "text": [
      "True\n"
     ]
    }
   ],
   "source": [
    "# 7. Question 7:\n",
    "# Create a variable password and set it to \"my_password123\" . \n",
    "# Ask the user to input a password and print True if the input matches the value of password , otherwise print False .\n",
    "\n",
    "password = \"my_password123\"\n",
    "user = input(\"Enter the Password\")\n",
    "if(user == password):\n",
    "    print(\"True\")\n",
    "else:\n",
    "    print(\"False\")"
   ]
  },
  {
   "cell_type": "code",
   "execution_count": 8,
   "id": "1edb0a57",
   "metadata": {},
   "outputs": [
    {
     "name": "stdout",
     "output_type": "stream",
     "text": [
      "marks before increment : 50\n",
      "marks after increment : 55\n"
     ]
    }
   ],
   "source": [
    "# 8. Question 8:\n",
    "# Assign the value 50 to a variable marks . \n",
    "# Increment the value of marks by 5 using the += operator, then print the new value.\n",
    "\n",
    "marks = 50\n",
    "print(\"marks before increment :\",marks)\n",
    "marks += 5\n",
    "print(\"marks after increment :\",marks)"
   ]
  },
  {
   "cell_type": "code",
   "execution_count": 9,
   "id": "9549a894",
   "metadata": {},
   "outputs": [
    {
     "name": "stdout",
     "output_type": "stream",
     "text": [
      "a or b : 10\n"
     ]
    }
   ],
   "source": [
    "# 9. Question 9:\n",
    "# Write a program to check if the value of a = 0 and b = 10 satisfies a or b .\n",
    "# Print the output and explain why it gives that result.\n",
    "\n",
    "a = 0\n",
    "b = 10\n",
    "print(\"a or b :\",a or b)\n",
    "\n",
    "# Returns True because a is 0 (False) and b is 10(True as value is other than 0)."
   ]
  },
  {
   "cell_type": "code",
   "execution_count": 10,
   "id": "280b2647",
   "metadata": {},
   "outputs": [
    {
     "name": "stdout",
     "output_type": "stream",
     "text": [
      "not False: True\n"
     ]
    }
   ],
   "source": [
    "# 10. Question 10:\n",
    "# Use not to negate the value of False and print the result. Explain what the not operator does in Python.\n",
    "\n",
    "print(\"not False:\", not False)\n",
    "\n",
    "# Returns True because not False is True, i.e reverse of False."
   ]
  }
 ],
 "metadata": {
  "kernelspec": {
   "display_name": "Python 3",
   "language": "python",
   "name": "python3"
  },
  "language_info": {
   "codemirror_mode": {
    "name": "ipython",
    "version": 3
   },
   "file_extension": ".py",
   "mimetype": "text/x-python",
   "name": "python",
   "nbconvert_exporter": "python",
   "pygments_lexer": "ipython3",
   "version": "3.13.5"
  }
 },
 "nbformat": 4,
 "nbformat_minor": 5
}
