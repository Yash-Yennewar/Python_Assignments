{
 "cells": [
  {
   "cell_type": "code",
   "execution_count": 1,
   "id": "2ffb11b4",
   "metadata": {},
   "outputs": [],
   "source": [
    "# Function Parameters and Argument Behavior"
   ]
  },
  {
   "cell_type": "code",
   "execution_count": 2,
   "id": "1b16d9cb",
   "metadata": {},
   "outputs": [
    {
     "name": "stdout",
     "output_type": "stream",
     "text": [
      "1 2 8\n"
     ]
    }
   ],
   "source": [
    "# 1. Default Arguments\n",
    "# Q1. What will be the output of the following function call, and why?\n",
    "def func(a, b=6, c=8) :\n",
    "    print(a, b, c)\n",
    "func(1, 2)\n",
    "\n",
    "# a is given as 1\n",
    "# b is given as 2 (so it overrides the default 6)\n",
    "# c is not provided, so it takes the default 8"
   ]
  },
  {
   "cell_type": "code",
   "execution_count": 3,
   "id": "a6e3ae2e",
   "metadata": {},
   "outputs": [
    {
     "name": "stdout",
     "output_type": "stream",
     "text": [
      "1 2 3\n"
     ]
    }
   ],
   "source": [
    "# 2. Keyword Arguments with Defaults\n",
    "# Q2. Predict the output and explain:\n",
    "def func(a, b, c=5) :\n",
    "    print(a, b, c)\n",
    "func(1, c=3, b=2)\n",
    "\n",
    "# a = 1 (positional argument)\n",
    "# b = 2 (keyword argument, overrides position)\n",
    "# c = 3 (keyword argument, overrides default 5)"
   ]
  },
  {
   "cell_type": "code",
   "execution_count": 4,
   "id": "ddbc2326",
   "metadata": {},
   "outputs": [
    {
     "name": "stdout",
     "output_type": "stream",
     "text": [
      "1 (2, 3)\n"
     ]
    }
   ],
   "source": [
    "# 3. Positional Variable-Length Arguments\n",
    "# Q3. Explain the behavior and output:\n",
    "def func(a, *pargs) :\n",
    "    print(a, pargs)\n",
    "func(1, 2, 3)\n",
    "\n",
    "# a = 1 - the first positional argument is assigned to a.\n",
    "# *pargs - collects all the remaining positional arguments into a tuple.\n",
    "# Here, (2, 3) gets packed into pargs."
   ]
  },
  {
   "cell_type": "code",
   "execution_count": 5,
   "id": "6554d8b3",
   "metadata": {},
   "outputs": [
    {
     "name": "stdout",
     "output_type": "stream",
     "text": [
      "1 {'c': 3, 'b': 2}\n"
     ]
    }
   ],
   "source": [
    "# 4. Keyword Variable-Length Arguments\n",
    "# Q4. What will this code print, and why?\n",
    "def func(a, **kargs):\n",
    "    print(a, kargs)\n",
    "func(a=1, c=3, b=2)\n",
    "\n",
    "# a=1 - matched directly with parameter a.\n",
    "# c=3 and b=2 - don’t match named parameters, so they get collected into the dictionary kargs."
   ]
  },
  {
   "cell_type": "code",
   "execution_count": 6,
   "id": "fd61187a",
   "metadata": {},
   "outputs": [
    {
     "name": "stdout",
     "output_type": "stream",
     "text": [
      "1 5 6 5\n"
     ]
    }
   ],
   "source": [
    "# 5. Mixing Positional and Unpacked Tuple Arguments\n",
    "# Q5. Explain the result of this call:\n",
    "def func(a, b, c=8, d=5):\n",
    "    print(a, b, c, d)\n",
    "func(1, *(5, 6))\n",
    "\n",
    "# Function parameters: a, b, c=8, d=5\n",
    "# Call: func(1, *(5, 6)) → the * unpacks the tuple (5, 6) into separate arguments.\n",
    "# So effectively, the call becomes:\n",
    "# func(1, 5, 6)\n",
    "# Assignments:\n",
    "# a = 1\n",
    "# b = 5\n",
    "# c = 6 (overrides default 8)\n",
    "# d = 5 (default value remains)"
   ]
  },
  {
   "cell_type": "code",
   "execution_count": 7,
   "id": "87c919bb",
   "metadata": {},
   "outputs": [
    {
     "name": "stdout",
     "output_type": "stream",
     "text": [
      "1 ['x'] {'a': 'y'}\n"
     ]
    }
   ],
   "source": [
    "# 6. Mutable vs Immutable Behavior\n",
    "# Q6. Predict the output of the variables l, m, and n after this code runs:\n",
    "def func(a, b, c):\n",
    "    a = 2\n",
    "    b[0] = 'x'\n",
    "    c['a'] = 'y'\n",
    "l = 1\n",
    "m = [1]\n",
    "n = {'a': 0}\n",
    "func(l, m, n)\n",
    "print(l, m, n)\n",
    "\n",
    "# l = 1 - immutable (integer). Inside func, a = 2 only rebinds local variable a. l remains unchanged.\n",
    "# m = [1] - mutable (list). Inside func, b[0] = 'x' modifies the list in place. So m becomes ['x'].\n",
    "# n = {'a': 0} - mutable (dict). Inside func, c['a'] = 'y' changes the value. So n becomes {'a': 'y'}."
   ]
  },
  {
   "cell_type": "code",
   "execution_count": 8,
   "id": "12e21b5a",
   "metadata": {},
   "outputs": [
    {
     "name": "stdout",
     "output_type": "stream",
     "text": [
      "Required argument: 10\n",
      "Positional arguments: (20, 30)\n",
      "Keyword arguments: {'x': 5, 'y': 15}\n"
     ]
    }
   ],
   "source": [
    "# Bonus Challenge\n",
    "# Write a function that accepts:\n",
    "# one required argument,\n",
    "# a variable number of positional arguments,\n",
    "# a variable number of keyword arguments,\n",
    "# Then print all three components. Call it with:\n",
    "# my_func(10, 20, 30, x=5, y=15)\n",
    "\n",
    "def my_func(a, *args, **kwargs):\n",
    "    print(\"Required argument:\", a)\n",
    "    print(\"Positional arguments:\", args)\n",
    "    print(\"Keyword arguments:\", kwargs)\n",
    "\n",
    "my_func(10, 20, 30, x=5, y=15)\n",
    "\n",
    "# a = 10 - first required argument\n",
    "# args = (20, 30) - all extra positional arguments in a tuple\n",
    "# kwargs = {'x': 5, 'y': 15} - all extra keyword arguments in a dictionary"
   ]
  }
 ],
 "metadata": {
  "kernelspec": {
   "display_name": "Python 3",
   "language": "python",
   "name": "python3"
  },
  "language_info": {
   "codemirror_mode": {
    "name": "ipython",
    "version": 3
   },
   "file_extension": ".py",
   "mimetype": "text/x-python",
   "name": "python",
   "nbconvert_exporter": "python",
   "pygments_lexer": "ipython3",
   "version": "3.13.5"
  }
 },
 "nbformat": 4,
 "nbformat_minor": 5
}
